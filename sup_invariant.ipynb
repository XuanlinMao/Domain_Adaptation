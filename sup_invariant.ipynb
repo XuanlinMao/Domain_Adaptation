{
 "cells": [
  {
   "cell_type": "code",
   "execution_count": 10,
   "metadata": {},
   "outputs": [],
   "source": [
    "from pygod.detector import CoLA\n",
    "from pygod.metric import eval_roc_auc\n",
    "import scipy.io\n",
    "from torch_geometric.data import Data\n",
    "import numpy as np\n",
    "import networkx as nx\n",
    "import torch\n",
    "import os\n",
    "from typing import Tuple, List, Literal\n",
    "import torch\n",
    "import torch.nn as nn\n",
    "from torch.utils.data import DataLoader\n",
    "import pickle\n",
    "import os\n",
    "from utils_unsup import set_random_seeds, eval_all\n",
    "import matplotlib.pyplot as plt\n",
    "import copy\n",
    "import torch.optim as optim\n",
    "from torch.nn.functional import binary_cross_entropy_with_logits\n",
    "from tqdm import tqdm\n",
    "from utils import MMD_loss\n",
    "from geomloss import SamplesLoss # Wasserstein Distance\n",
    "\n",
    "\n",
    "path_model = './saved/models_unsup_ad_0826'\n",
    "path_out = 'output/unsup_ad'\n",
    "os.environ[\"CUDA_DEVICE_ORDER\"]=\"PCI_BUS_ID\"\n",
    "\n",
    "def save_model(model,filename):\n",
    "    with open(filename,'wb') as f:\n",
    "        pickle.dump(model,f)\n",
    "\n",
    "def read_model(filename):\n",
    "    with open(filename,'rb') as f:\n",
    "        return(pickle.load(f))\n",
    "    \n",
    "def clear():\n",
    "    torch.cuda.empty_cache()\n",
    "\n",
    "def load_data(\n",
    "        dataname:Literal['YelpHotel','YelpRes','Amazon','YelpNYC'],\n",
    "        if_split:bool=False,\n",
    "        split:Tuple[float]=(0.6,0.2,0.2)\n",
    "    ) -> Tuple[Data,np.ndarray]:\n",
    "    dataset = scipy.io.loadmat(f'./dataset/{dataname}/{dataname}.mat')\n",
    "    dataset['Network'].toarray()\n",
    "    D = nx.DiGraph(dataset['Network'].toarray())\n",
    "    edges = torch.tensor([[u for (u, v) in D.edges()],[v for (u,v) in D.edges()]], dtype=torch.int64)\n",
    "    attr = torch.tensor(dataset['Attributes'].toarray(), dtype=torch.float)\n",
    "    label = torch.tensor(dataset['Label'])\n",
    "    data = Data(x=attr, edge_index=edges)\n",
    "\n",
    "    if if_split:\n",
    "        n = label.shape[0]\n",
    "        train_mask, val_mask, test_mask = np.zeros(n).astype(bool), np.zeros(n).astype(bool), np.zeros(n).astype(bool)\n",
    "        indexes = np.arange(n)\n",
    "        np.random.shuffle(indexes)\n",
    "        n_train, n_val = int(n*split[0]),int(n*split[1])\n",
    "        train_mask[indexes[:n_train]] = True\n",
    "        val_mask[indexes[n_train:(n_train+n_val)]] = True\n",
    "        test_mask[indexes[(n_train+n_val):]] = True\n",
    "        train_mask, val_mask, test_mask = torch.tensor(train_mask), torch.tensor(val_mask), torch.tensor(test_mask)\n",
    "        data.train_mask, data.val_mask, data.test_mask = train_mask, val_mask, test_mask\n",
    "    return data,label\n",
    "\n",
    "data_src, label_src = load_data('YelpHotel',if_split=True)\n",
    "data_tgt, label_tgt = load_data('YelpRes',if_split=False)\n",
    "\n",
    "device = torch.device('cuda:0')\n",
    "set_random_seeds(123,device='gpu')\n",
    "data_src,data_tgt = data_src.to(device),data_tgt.to(device)\n",
    "label_src,label_tgt = label_src.to(device),label_tgt.to(device)"
   ]
  },
  {
   "cell_type": "markdown",
   "metadata": {},
   "source": [
    "## Finetune with Wasserstein Distance\n",
    "\n",
    "No enough GPU to complete MMD Distance calculation."
   ]
  },
  {
   "cell_type": "code",
   "execution_count": 2,
   "metadata": {},
   "outputs": [
    {
     "data": {
      "text/plain": [
       "<All keys matched successfully>"
      ]
     },
     "execution_count": 2,
     "metadata": {},
     "output_type": "execute_result"
    }
   ],
   "source": [
    "from sup_models import *\n",
    "encoder_s = GCN_Encoder(nhids=[8000,128,64],dropout=0.,with_bn=False)\n",
    "classifier = Classifier(nhids=[64,32,1],dropout=0.,with_bn=False)\n",
    "encoder_s.load_state_dict(torch.load('./saved/models_sup_H2R/GCN_encoder_202407241318.pth'))\n",
    "classifier.load_state_dict(torch.load('./saved/models_sup_H2R/GCN_classifier_202407241318.pth'))"
   ]
  },
  {
   "cell_type": "code",
   "execution_count": 9,
   "metadata": {},
   "outputs": [
    {
     "data": {
      "text/plain": [
       "(GCN_Encoder(\n",
       "   (layers): ModuleList(\n",
       "     (0): GCNConv(8000, 128)\n",
       "     (1): GCNConv(128, 64)\n",
       "   )\n",
       " ),\n",
       " Classifier(\n",
       "   (layers): ModuleList(\n",
       "     (0): Linear(in_features=64, out_features=32, bias=True)\n",
       "     (1): Linear(in_features=32, out_features=1, bias=True)\n",
       "   )\n",
       "   (sigmoid): Sigmoid()\n",
       " ))"
      ]
     },
     "execution_count": 9,
     "metadata": {},
     "output_type": "execute_result"
    }
   ],
   "source": [
    "encoder_s,classifier"
   ]
  },
  {
   "cell_type": "code",
   "execution_count": 4,
   "metadata": {},
   "outputs": [
    {
     "data": {
      "text/plain": [
       "torch.float32"
      ]
     },
     "execution_count": 4,
     "metadata": {},
     "output_type": "execute_result"
    }
   ],
   "source": [
    "data_src.x.dtype"
   ]
  },
  {
   "cell_type": "code",
   "execution_count": 36,
   "metadata": {},
   "outputs": [
    {
     "name": "stderr",
     "output_type": "stream",
     "text": [
      "  1%|          | 2/300 [00:00<00:25, 11.70it/s]"
     ]
    },
    {
     "name": "stderr",
     "output_type": "stream",
     "text": [
      "100%|██████████| 300/300 [00:26<00:00, 11.50it/s]\n"
     ]
    }
   ],
   "source": [
    "encoder_s = GCN_Encoder(nhids=[8000,128,64],dropout=0.,with_bn=False)\n",
    "classifier = Classifier(nhids=[64,32,1],dropout=0.,with_bn=False)\n",
    "encoder_s.load_state_dict(torch.load('./saved/models_sup_H2R/GCN_encoder_202407241318.pth'))\n",
    "encoder_s = encoder_s.to(device)\n",
    "encoder_t = copy.deepcopy(encoder_s).to(device)\n",
    "classifier.load_state_dict(torch.load('./saved/models_sup_H2R/GCN_classifier_202407241318.pth'))\n",
    "classifer = classifier.to(device)\n",
    "\n",
    "for p in encoder_s.parameters():\n",
    "    p.requires_grad = False\n",
    "for p in classifier.parameters():\n",
    "    p.requires_grad = False\n",
    "\n",
    "\n",
    "n_epoch = 300\n",
    "coe = 100\n",
    "t_optimizer = optim.Adam(params=encoder_t.parameters())\n",
    "loss_w = SamplesLoss(loss=\"sinkhorn\", p=2, blur=0.05)\n",
    "criterion = nn.BCELoss()\n",
    "\n",
    "\n",
    "loss_dist_list = []\n",
    "loss_ce_list = []\n",
    "\n",
    "for epoch in tqdm(range(n_epoch)):\n",
    "    emb_s = encoder_s(data_src.x, data_src.edge_index).to(device)\n",
    "    emb_t = encoder_t(data_tgt.x, data_tgt.edge_index).to(device)\n",
    "    pred_s = classifier(emb_s)\n",
    "    # loss_ce = criterion(pred_s,label_src.float()) # label is expected to be float instead of Long  \n",
    "    loss_dist = loss_w(emb_s,emb_t)\n",
    "    # since loss_ce is too small comparing to loss_dist and latter always wins\n",
    "    # we increase the coefficient of loss_contrast to a large number\n",
    "    # loss = coe*loss_ce + loss_dist\n",
    "    \n",
    "    # mmd = MMD_loss(kernel_type='rbf', kernel_mul=2.0, kernel_num=5)\n",
    "    # loss_mmd = mmd(emb_s,emb_t)\n",
    "    # loss = loss_contrast + loss_mmd\n",
    "\n",
    "    loss_dist_list.append(loss_dist.detach().item())\n",
    "    # loss_ce_list.append(loss_ce.detach().item())\n",
    "    \n",
    "    t_optimizer.zero_grad()\n",
    "    loss_dist.backward()\n",
    "    t_optimizer.step()"
   ]
  },
  {
   "cell_type": "code",
   "execution_count": 37,
   "metadata": {},
   "outputs": [
    {
     "data": {
      "image/png": "[encoded data removed]",
      "text/plain": [
       "<Figure size 640x480 with 1 Axes>"
      ]
     },
     "metadata": {},
     "output_type": "display_data"
    }
   ],
   "source": [
    "plt.plot(loss_dist_list,label='dist')\n",
    "plt.show()"
   ]
  },
  {
   "cell_type": "code",
   "execution_count": 38,
   "metadata": {},
   "outputs": [
    {
     "data": {
      "text/plain": [
       "0.8604561108777824"
      ]
     },
     "execution_count": 38,
     "metadata": {},
     "output_type": "execute_result"
    }
   ],
   "source": [
    "emb_t = encoder_t(data_tgt.x, data_tgt.edge_index).to(device)\n",
    "pred_t = classifier(emb_t).to(device)\n",
    "from sklearn.metrics import roc_auc_score\n",
    "roc_auc_score(label_tgt.detach().cpu().numpy().flatten(),pred_t.detach().cpu().numpy().flatten())"
   ]
  },
  {
   "cell_type": "markdown",
   "metadata": {},
   "source": [
    "AUC从0.820提高到了0.86"
   ]
  },
  {
   "cell_type": "code",
   "execution_count": null,
   "metadata": {},
   "outputs": [],
   "source": []
  },
  {
   "cell_type": "code",
   "execution_count": null,
   "metadata": {},
   "outputs": [],
   "source": []
  }
 ],
 "metadata": {
  "kernelspec": {
   "display_name": "Xuanlin2",
   "language": "python",
   "name": "python3"
  },
  "language_info": {
   "codemirror_mode": {
    "name": "ipython",
    "version": 3
   },
   "file_extension": ".py",
   "mimetype": "text/x-python",
   "name": "python",
   "nbconvert_exporter": "python",
   "pygments_lexer": "ipython3",
   "version": "3.9.19"
  }
 },
 "nbformat": 4,
 "nbformat_minor": 2
}
