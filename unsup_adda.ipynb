{
 "cells": [
  {
   "cell_type": "code",
   "execution_count": 2,
   "metadata": {},
   "outputs": [],
   "source": [
    "from pygod.detector import CoLA\n",
    "from pygod.metric import eval_roc_auc\n",
    "import scipy.io\n",
    "from torch_geometric.data import Data\n",
    "import numpy as np\n",
    "import pandas as pd\n",
    "import networkx as nx\n",
    "import torch\n",
    "import os\n",
    "from typing import Tuple, List, Literal\n",
    "import torch\n",
    "import torch.nn as nn\n",
    "from torch.utils.data import DataLoader\n",
    "import sys\n",
    "import pickle\n",
    "import os\n",
    "from utils_unsup import set_random_seeds, eval_all\n",
    "import matplotlib.pyplot as plt\n",
    "import copy\n",
    "import torch.optim as optim\n",
    "from torch.nn.functional import binary_cross_entropy_with_logits\n",
    "from tqdm import tqdm\n",
    "\n",
    "\n",
    "\n",
    "path_model = './saved/models_unsup_ad_0826'\n",
    "path_out = 'output/unsup_ad'\n",
    "os.environ[\"CUDA_DEVICE_ORDER\"]=\"PCI_BUS_ID\"\n",
    "\n",
    "def save_model(model,filename):\n",
    "    with open(filename,'wb') as f:\n",
    "        pickle.dump(model,f)\n",
    "\n",
    "def read_model(filename):\n",
    "    with open(filename,'rb') as f:\n",
    "        return(pickle.load(f))\n",
    "    \n",
    "def clear():\n",
    "    torch.cuda.empty_cache()\n",
    "\n",
    "def load_data(\n",
    "        dataname:Literal['YelpHotel','YelpRes','Amazon','YelpNYC'],\n",
    "        if_split:bool=False,\n",
    "        split:Tuple[float]=(0.6,0.2,0.2)\n",
    "    ) -> Tuple[Data,np.ndarray]:\n",
    "    dataset = scipy.io.loadmat(f'./dataset/{dataname}/{dataname}.mat')\n",
    "    dataset['Network'].toarray()\n",
    "    D = nx.DiGraph(dataset['Network'].toarray())\n",
    "    edges = torch.tensor([[u for (u, v) in D.edges()],[v for (u,v) in D.edges()]], dtype=torch.int64)\n",
    "    attr = torch.tensor(dataset['Attributes'].toarray(), dtype=torch.float)\n",
    "    label = torch.tensor(dataset['Label'])\n",
    "    data = Data(x=attr, edge_index=edges)\n",
    "\n",
    "    if if_split:\n",
    "        n = label.shape[0]\n",
    "        train_mask, val_mask, test_mask = np.zeros(n).astype(bool), np.zeros(n).astype(bool), np.zeros(n).astype(bool)\n",
    "        indexes = np.arange(n)\n",
    "        np.random.shuffle(indexes)\n",
    "        n_train, n_val = int(n*split[0]),int(n*split[1])\n",
    "        train_mask[indexes[:n_train]] = True\n",
    "        val_mask[indexes[n_train:(n_train+n_val)]] = True\n",
    "        test_mask[indexes[(n_train+n_val):]] = True\n",
    "        train_mask, val_mask, test_mask = torch.tensor(train_mask), torch.tensor(val_mask), torch.tensor(test_mask)\n",
    "        data.train_mask, data.val_mask, data.test_mask = train_mask, val_mask, test_mask\n",
    "    return data,label\n",
    "\n",
    "data_src, label_src = load_data('YelpHotel',if_split=True)\n",
    "data_tgt, label_tgt = load_data('YelpRes',if_split=False)\n",
    "set_random_seeds(123,device='gpu')"
   ]
  },
  {
   "cell_type": "code",
   "execution_count": 55,
   "metadata": {},
   "outputs": [
    {
     "data": {
      "text/plain": [
       "CoLA(act=<function relu at 0x7f711c051700>,\n",
       "     backbone=<class 'torch_geometric.nn.models.basic_gnn.GCN'>,\n",
       "     batch_size=4322, compile_model=False, contamination=0.1, dropout=0.0,\n",
       "     epoch=100, gpu=None, hid_dim=64, lr=0.004, num_layers=4,\n",
       "     num_neigh=[-1, -1, -1, -1], save_emb=False, verbose=0,\n",
       "     weight_decay=0.0)"
      ]
     },
     "execution_count": 55,
     "metadata": {},
     "output_type": "execute_result"
    }
   ],
   "source": [
    "model_CoLA_src = CoLA(gpu=0)\n",
    "model_CoLA_src.fit(data_src)"
   ]
  },
  {
   "cell_type": "markdown",
   "metadata": {},
   "source": [
    "`score = neg_logits[:batch_size] - pos_logits[:batch_size]`"
   ]
  },
  {
   "cell_type": "code",
   "execution_count": 42,
   "metadata": {},
   "outputs": [
    {
     "data": {
      "text/plain": [
       "CoLABase(\n",
       "  (encoder): GCN(8000, 64, num_layers=4)\n",
       "  (discriminator): Bilinear(in1_features=8000, in2_features=64, out_features=1, bias=True)\n",
       ")"
      ]
     },
     "execution_count": 42,
     "metadata": {},
     "output_type": "execute_result"
    }
   ],
   "source": [
    "model_CoLA_src.model"
   ]
  },
  {
   "cell_type": "code",
   "execution_count": 56,
   "metadata": {},
   "outputs": [],
   "source": [
    "torch.save(model_CoLA_src.model, os.path.join(path_model,'cola_src_model.pth'))"
   ]
  },
  {
   "cell_type": "code",
   "execution_count": 5,
   "metadata": {},
   "outputs": [],
   "source": [
    "class Discriminator(nn.Module):\n",
    "    def __init__(self,nin,nhid,nout):\n",
    "        super(Discriminator,self).__init__()\n",
    "        self.fc1 = nn.Linear(nin,nhid)\n",
    "        self.fc2 = nn.Linear(nhid,nout)\n",
    "        self.relu = nn.ReLU()\n",
    "    \n",
    "    def forward(self,input):\n",
    "        x = self.relu(self.fc1(input))\n",
    "        # x = self.relu(self.fc2(x))\n",
    "        x = self.fc2(x)\n",
    "        return x        "
   ]
  },
  {
   "cell_type": "code",
   "execution_count": 61,
   "metadata": {},
   "outputs": [],
   "source": [
    "# device = torch.device('cuda:0')\n",
    "\n",
    "# model_cola = torch.load(os.path.join(path_model,'cola_src_model.pth'))\n",
    "\n",
    "# encoder_s = model_cola.encoder\n",
    "# discriminator = model_cola.discriminator\n",
    "# # we only optimize encoder_t and D\n",
    "# encoder_t = copy.deepcopy(encoder_s)\n",
    "# D = Discriminator(encoder_s.out_channels,32,1).to(device)\n",
    "\n",
    "# for p in encoder_s.parameters():\n",
    "#     p.requires_grad = False\n",
    "# for p in discriminator.parameters():\n",
    "#     p.requires_grad = False"
   ]
  },
  {
   "cell_type": "code",
   "execution_count": 94,
   "metadata": {},
   "outputs": [
    {
     "name": "stderr",
     "output_type": "stream",
     "text": [
      "  2%|▏         | 2/100 [00:00<00:15,  6.18it/s]"
     ]
    },
    {
     "name": "stderr",
     "output_type": "stream",
     "text": [
      "100%|██████████| 100/100 [00:16<00:00,  6.19it/s]\n"
     ]
    }
   ],
   "source": [
    "device = torch.device('cuda:0')\n",
    "set_random_seeds(123,device='gpu')\n",
    "\n",
    "model_cola = torch.load(os.path.join(path_model,'cola_src_model.pth'))\n",
    "\n",
    "encoder_s = model_cola.encoder\n",
    "discriminator = model_cola.discriminator\n",
    "# we only optimize encoder_t and D\n",
    "encoder_t = copy.deepcopy(encoder_s)\n",
    "D = Discriminator(encoder_s.out_channels,32,1).to(device)\n",
    "\n",
    "for p in encoder_s.parameters():\n",
    "    p.requires_grad = False\n",
    "for p in discriminator.parameters():\n",
    "    p.requires_grad = False\n",
    "\n",
    "    \n",
    "# D1 E5 performs fair\n",
    "n_epoch = 100\n",
    "D_steps = 1\n",
    "E_steps = 5\n",
    "\n",
    "loss_domain_list = []\n",
    "loss_contrast_list = []\n",
    "loss_adversarial_list = []\n",
    "\n",
    "encoder_t_optimizer = optim.Adam(params=encoder_t.parameters())\n",
    "D_optimizer = optim.Adam(params=D.parameters())\n",
    "data_src,data_tgt = data_src.to(device),data_tgt.to(device)\n",
    "\n",
    "for epoch in tqdm(range(n_epoch)):\n",
    "    tmp_d = []\n",
    "    for _ in range(D_steps):\n",
    "        emb_s = encoder_s(data_src.x, data_src.edge_index).to(device)\n",
    "        emb_t = encoder_t(data_tgt.x, data_tgt.edge_index).to(device)\n",
    "        d_s = D(emb_s).to(device)\n",
    "        d_t = D(emb_t).to(device)\n",
    "        d_pre = torch.cat([d_s,d_t]).squeeze().to(device)\n",
    "        d_label = torch.cat([torch.ones(d_s.shape[0]),torch.zeros(d_t.shape[0])]).to(device)\n",
    "\n",
    "        loss_domain = binary_cross_entropy_with_logits(d_pre,d_label)\n",
    "        D_optimizer.zero_grad()\n",
    "        loss_domain.backward()\n",
    "        D_optimizer.step()\n",
    "        tmp_d.append(loss_domain.detach().item())\n",
    "    loss_domain_list.append(np.mean(tmp_d))\n",
    "    \n",
    "    tmp_c,tmp_a = [],[]\n",
    "    for _ in range(E_steps):\n",
    "        emb_s = encoder_s(data_src.x, data_src.edge_index).to(device)\n",
    "        emb_t = encoder_t(data_tgt.x, data_tgt.edge_index).to(device)\n",
    "        logit_s = discriminator(data_src.x, emb_s).to(device)\n",
    "        logit_t = discriminator(data_tgt.x, emb_t).to(device)\n",
    "\n",
    "        perm_idx_s = torch.randperm(data_src.x.shape[0]).to(device)\n",
    "        neg_logit_s = discriminator(data_src.x[perm_idx_s], emb_s)\n",
    "        perm_idx_t = torch.randperm(data_tgt.x.shape[0]).to(device)\n",
    "        neg_logit_t = discriminator(data_tgt.x[perm_idx_t], emb_t)\n",
    "\n",
    "        logits_s = torch.cat([logit_s,neg_logit_s]).squeeze().to(device)\n",
    "        logits_t = torch.cat([logit_t,neg_logit_t]).squeeze().to(device)\n",
    "        con_label_s = torch.cat([torch.ones(data_src.x.shape[0]),torch.zeros(data_src.x.shape[0])]).squeeze().to(device)\n",
    "        con_label_t = torch.cat([torch.ones(data_tgt.x.shape[0]),torch.zeros(data_tgt.x.shape[0])]).squeeze().to(device)\n",
    "\n",
    "        loss_contrast = binary_cross_entropy_with_logits(logits_s,con_label_s)+\\\n",
    "            binary_cross_entropy_with_logits(logits_t,con_label_t)\n",
    "        loss_adversarial = torch.mean(-torch.log(torch.sigmoid(D(emb_t))))\n",
    "        loss_encoder = loss_contrast + loss_adversarial\n",
    "\n",
    "        encoder_t_optimizer.zero_grad()\n",
    "        loss_encoder.backward()\n",
    "        encoder_t_optimizer.step()\n",
    "\n",
    "        tmp_c.append(loss_contrast.detach().item())\n",
    "        tmp_a.append(loss_adversarial.detach().item())\n",
    "\n",
    "    loss_contrast_list.append(np.mean(tmp_c))\n",
    "    loss_adversarial_list.append(np.mean(tmp_a))        "
   ]
  },
  {
   "cell_type": "code",
   "execution_count": 95,
   "metadata": {},
   "outputs": [
    {
     "data": {
      "image/png": "[encoded data removed]",
      "text/plain": [
       "<Figure size 640x480 with 1 Axes>"
      ]
     },
     "metadata": {},
     "output_type": "display_data"
    }
   ],
   "source": [
    "plt.plot(loss_domain_list)\n",
    "plt.plot(loss_contrast_list)\n",
    "plt.plot(loss_adversarial_list)\n",
    "plt.title('loss')\n",
    "plt.legend(['l_domain','l_contrast','l_adversarial'])\n",
    "plt.show()"
   ]
  },
  {
   "cell_type": "code",
   "execution_count": 96,
   "metadata": {},
   "outputs": [],
   "source": [
    "torch.save(encoder_t.state_dict(), os.path.join(path_model,'encoder_t.pth'))\n",
    "torch.save(D.state_dict(), os.path.join(path_model,'D.pth'))"
   ]
  },
  {
   "cell_type": "code",
   "execution_count": 97,
   "metadata": {},
   "outputs": [],
   "source": [
    "emb_t = encoder_t(data_tgt.x, data_tgt.edge_index).to(device)\n",
    "logit_t = discriminator(data_tgt.x, emb_t).to(device)"
   ]
  },
  {
   "cell_type": "code",
   "execution_count": 102,
   "metadata": {},
   "outputs": [
    {
     "data": {
      "text/plain": [
       "0.6920789584208317"
      ]
     },
     "execution_count": 102,
     "metadata": {},
     "output_type": "execute_result"
    }
   ],
   "source": [
    "from sklearn.metrics import roc_auc_score\n",
    "roc_auc_score(label_tgt.detach().cpu().numpy().flatten(),logit_t.detach().cpu().numpy().flatten())"
   ]
  },
  {
   "cell_type": "code",
   "execution_count": null,
   "metadata": {},
   "outputs": [],
   "source": []
  },
  {
   "cell_type": "code",
   "execution_count": null,
   "metadata": {},
   "outputs": [],
   "source": []
  }
 ],
 "metadata": {
  "kernelspec": {
   "display_name": "Xuanlin2",
   "language": "python",
   "name": "python3"
  },
  "language_info": {
   "codemirror_mode": {
    "name": "ipython",
    "version": 3
   },
   "file_extension": ".py",
   "mimetype": "text/x-python",
   "name": "python",
   "nbconvert_exporter": "python",
   "pygments_lexer": "ipython3",
   "version": "3.9.19"
  }
 },
 "nbformat": 4,
 "nbformat_minor": 2
}
