{
  "cells": [
    {
      "cell_type": "markdown",
      "metadata": {},
      "source": [
        "\n",
        "# Detector Example\n",
        "\n",
        "In this tutorial, you will learn the basic workflow of\n",
        "PyGOD with an example of DOMINANT. This tutorial assumes that\n",
        "you have basic familiarity with PyTorch and PyTorch Geometric (PyG).\n",
        "\n",
        "(Time estimate: 5 minutes)\n"
      ]
    },
    {
      "cell_type": "markdown",
      "metadata": {},
      "source": [
        "## Data Loading\n",
        "PyGOD use ``torch_geometric.data.Data`` to handle the data. Here, we\n",
        "use Cora, a PyG built-in dataset, as an example. To load your own\n",
        "dataset into PyGOD, you can refer to [creating your own datasets\n",
        "tutorial](https://pytorch-geometric.readthedocs.io/en/latest/notes\n",
        "/create_dataset.html)_ in PyG.\n",
        "\n"
      ]
    },
    {
      "cell_type": "code",
      "execution_count": 1,
      "metadata": {
        "collapsed": false
      },
      "outputs": [],
      "source": [
        "import torch_geometric.transforms as T\n",
        "from torch_geometric.datasets import Planetoid\n",
        "\n",
        "data = Planetoid('./data/Cora', 'Cora', transform=T.NormalizeFeatures())[0]"
      ]
    },
    {
      "cell_type": "markdown",
      "metadata": {},
      "source": [
        "Because there is no ground truth label of outliers in Cora, we follow\n",
        "the method used by DOMINANT to inject 100 contextual outliers and 100\n",
        "structure outliers into the graph. Note: If your dataset already\n",
        "contains the outliers you want to detect, you don't have to inject\n",
        "more outliers.\n",
        "\n"
      ]
    },
    {
      "cell_type": "code",
      "execution_count": 2,
      "metadata": {
        "collapsed": false
      },
      "outputs": [],
      "source": [
        "import torch\n",
        "from pygod.generator import gen_contextual_outlier, gen_structural_outlier\n",
        "\n",
        "data, ya = gen_contextual_outlier(data, n=100, k=50)\n",
        "data, ys = gen_structural_outlier(data, m=10, n=10)\n",
        "data.y = torch.logical_or(ys, ya).long()"
      ]
    },
    {
      "cell_type": "code",
      "execution_count": 6,
      "metadata": {},
      "outputs": [
        {
          "data": {
            "text/plain": [
              "Data(x=[2708, 1433], edge_index=[2, 11456], y=[2708], train_mask=[2708], val_mask=[2708], test_mask=[2708])"
            ]
          },
          "execution_count": 6,
          "metadata": {},
          "output_type": "execute_result"
        }
      ],
      "source": [
        "data"
      ]
    },
    {
      "cell_type": "markdown",
      "metadata": {},
      "source": [
        "We also provide various type of built-in datasets. You can load them\n",
        "by passing the name of the dataset to ``load_data`` function.\n",
        "See [data repository](https://github.com/pygod-team/data)_\n",
        "for more details.\n",
        "\n"
      ]
    },
    {
      "cell_type": "code",
      "execution_count": null,
      "metadata": {
        "collapsed": false
      },
      "outputs": [],
      "source": [
        "from pygod.utils import load_data\n",
        "\n",
        "data = load_data('inj_cora')\n",
        "data.y = data.y.bool()"
      ]
    },
    {
      "cell_type": "markdown",
      "metadata": {},
      "source": [
        "## Initialization\n",
        "You can use any detector by simply initializing without passing any\n",
        "arguments. Default hyperparameters are ready for you. Of course, you\n",
        "can also customize the parameters by passing arguments. Here, we use\n",
        "``pygod.detector.DOMINANT`` as an example.\n",
        "\n"
      ]
    },
    {
      "cell_type": "code",
      "execution_count": null,
      "metadata": {
        "collapsed": false
      },
      "outputs": [],
      "source": [
        "from pygod.detector import DOMINANT\n",
        "\n",
        "detector = DOMINANT(hid_dim=64, num_layers=4, epoch=100)"
      ]
    },
    {
      "cell_type": "markdown",
      "metadata": {},
      "source": [
        "## Training\n",
        "To train the detector with the loaded data, simply feed the\n",
        "``torch_geometric.data.Data`` object into the detector via ``fit``.\n",
        "\n"
      ]
    },
    {
      "cell_type": "code",
      "execution_count": null,
      "metadata": {
        "collapsed": false
      },
      "outputs": [],
      "source": [
        "detector.fit(data)"
      ]
    },
    {
      "cell_type": "markdown",
      "metadata": {},
      "source": [
        "## Inference\n",
        "After training, the detector is ready to use. You can use the detector\n",
        "to predict the labels, raw outlier scores, probability of the\n",
        "outlierness, and prediction confidence. Here, we use the loaded data\n",
        "as an example.\n",
        "\n"
      ]
    },
    {
      "cell_type": "code",
      "execution_count": null,
      "metadata": {
        "collapsed": false
      },
      "outputs": [],
      "source": [
        "pred, score, prob, conf = detector.predict(data,\n",
        "                                           return_pred=True,\n",
        "                                           return_score=True,\n",
        "                                           return_prob=True,\n",
        "                                           return_conf=True)\n",
        "print('Labels:')\n",
        "print(pred)\n",
        "\n",
        "print('Raw scores:')\n",
        "print(score)\n",
        "\n",
        "print('Probability:')\n",
        "print(prob)\n",
        "\n",
        "print('Confidence:')\n",
        "print(conf)"
      ]
    },
    {
      "cell_type": "markdown",
      "metadata": {},
      "source": [
        "## Evaluation\n",
        "To evaluate the performance outlier detector with AUC score, you can:\n",
        "\n"
      ]
    },
    {
      "cell_type": "code",
      "execution_count": null,
      "metadata": {
        "collapsed": false
      },
      "outputs": [],
      "source": [
        "from pygod.metric import eval_roc_auc\n",
        "\n",
        "auc_score = eval_roc_auc(data.y, score)\n",
        "print('AUC Score:', auc_score)"
      ]
    }
  ],
  "metadata": {
    "kernelspec": {
      "display_name": "Python 3",
      "language": "python",
      "name": "python3"
    },
    "language_info": {
      "codemirror_mode": {
        "name": "ipython",
        "version": 3
      },
      "file_extension": ".py",
      "mimetype": "text/x-python",
      "name": "python",
      "nbconvert_exporter": "python",
      "pygments_lexer": "ipython3",
      "version": "3.9.19"
    }
  },
  "nbformat": 4,
  "nbformat_minor": 0
}
